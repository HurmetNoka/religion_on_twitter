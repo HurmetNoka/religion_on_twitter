{
 "cells": [
  {
   "cell_type": "markdown",
   "metadata": {},
   "source": [
    "### Content"
   ]
  },
  {
   "cell_type": "raw",
   "metadata": {},
   "source": [
    "The nootebook below is about Hate Speech Detection Model applied to tweets about \"Religion\" ,using Sonar Library for hate Speech Detection.\n",
    "Total Tweets: 48528. The processing steps taken are as below:\n",
    "    - Package Imports\n",
    "    - Data Loading\n",
    "    - Function to classify tweets\n",
    "    - Apply the function to our Data\n",
    "    - Number of Tweets by Hate Speech Classification\n",
    "    - Histogram of tweets by class\n",
    "    - Seperate Tweets according to their class\n",
    "    - Scatter plot of Hate Score\n",
    "    - Top 10 Hateful tweets\n",
    "    - Top 10 Offensive tweets\n",
    "    - Save Sentiment Analysis Results\n"
   ]
  },
  {
   "cell_type": "markdown",
   "metadata": {},
   "source": [
    "### Imports"
   ]
  },
  {
   "cell_type": "code",
   "execution_count": 38,
   "metadata": {},
   "outputs": [],
   "source": [
    "import pandas as pd\n",
    "import numpy as np\n",
    "import seaborn as sns\n",
    "import matplotlib.pyplot as plt\n",
    "\n",
    "from hatesonar import Sonar # This is the hate speech detection library\n",
    "\n",
    "\n",
    "import warnings\n",
    "warnings.filterwarnings('ignore')"
   ]
  },
  {
   "cell_type": "markdown",
   "metadata": {},
   "source": [
    "#### Data Loading "
   ]
  },
  {
   "cell_type": "code",
   "execution_count": 39,
   "metadata": {},
   "outputs": [],
   "source": [
    "# 48'528 tweets about religion\n",
    "df = pd.read_pickle('hate_speech_input.pkl')"
   ]
  },
  {
   "cell_type": "code",
   "execution_count": 40,
   "metadata": {},
   "outputs": [],
   "source": [
    "df.reset_index(drop=True, inplace=True)"
   ]
  },
  {
   "cell_type": "code",
   "execution_count": 41,
   "metadata": {},
   "outputs": [
    {
     "data": {
      "text/plain": [
       "(48528, 6)"
      ]
     },
     "execution_count": 41,
     "metadata": {},
     "output_type": "execute_result"
    }
   ],
   "source": [
    "df.shape"
   ]
  },
  {
   "cell_type": "code",
   "execution_count": 42,
   "metadata": {},
   "outputs": [
    {
     "data": {
      "text/html": [
       "<div>\n",
       "<style scoped>\n",
       "    .dataframe tbody tr th:only-of-type {\n",
       "        vertical-align: middle;\n",
       "    }\n",
       "\n",
       "    .dataframe tbody tr th {\n",
       "        vertical-align: top;\n",
       "    }\n",
       "\n",
       "    .dataframe thead th {\n",
       "        text-align: right;\n",
       "    }\n",
       "</style>\n",
       "<table border=\"1\" class=\"dataframe\">\n",
       "  <thead>\n",
       "    <tr style=\"text-align: right;\">\n",
       "      <th></th>\n",
       "      <th>tweet_text</th>\n",
       "      <th>negative</th>\n",
       "      <th>neutral</th>\n",
       "      <th>positive</th>\n",
       "      <th>compound</th>\n",
       "      <th>sentiment</th>\n",
       "    </tr>\n",
       "  </thead>\n",
       "  <tbody>\n",
       "    <tr>\n",
       "      <th>0</th>\n",
       "      <td>Islam is a religion full of blessings and good...</td>\n",
       "      <td>0.000</td>\n",
       "      <td>0.564</td>\n",
       "      <td>0.436</td>\n",
       "      <td>0.8910</td>\n",
       "      <td>1</td>\n",
       "    </tr>\n",
       "    <tr>\n",
       "      <th>1</th>\n",
       "      <td>@ wagner_claire Religion and pity are antonyms...</td>\n",
       "      <td>0.247</td>\n",
       "      <td>0.605</td>\n",
       "      <td>0.148</td>\n",
       "      <td>-0.2023</td>\n",
       "      <td>-1</td>\n",
       "    </tr>\n",
       "    <tr>\n",
       "      <th>2</th>\n",
       "      <td>if the only reason people are on twitter is to...</td>\n",
       "      <td>0.130</td>\n",
       "      <td>0.870</td>\n",
       "      <td>0.000</td>\n",
       "      <td>-0.3400</td>\n",
       "      <td>-1</td>\n",
       "    </tr>\n",
       "    <tr>\n",
       "      <th>3</th>\n",
       "      <td>Religion is needed to provide a moral compass ...</td>\n",
       "      <td>0.173</td>\n",
       "      <td>0.827</td>\n",
       "      <td>0.000</td>\n",
       "      <td>-0.3182</td>\n",
       "      <td>-1</td>\n",
       "    </tr>\n",
       "    <tr>\n",
       "      <th>4</th>\n",
       "      <td>plus my religion has never been 'holier' than ...</td>\n",
       "      <td>0.000</td>\n",
       "      <td>0.811</td>\n",
       "      <td>0.189</td>\n",
       "      <td>0.4939</td>\n",
       "      <td>1</td>\n",
       "    </tr>\n",
       "  </tbody>\n",
       "</table>\n",
       "</div>"
      ],
      "text/plain": [
       "                                          tweet_text  negative  neutral  \\\n",
       "0  Islam is a religion full of blessings and good...     0.000    0.564   \n",
       "1  @ wagner_claire Religion and pity are antonyms...     0.247    0.605   \n",
       "2  if the only reason people are on twitter is to...     0.130    0.870   \n",
       "3  Religion is needed to provide a moral compass ...     0.173    0.827   \n",
       "4  plus my religion has never been 'holier' than ...     0.000    0.811   \n",
       "\n",
       "   positive  compound  sentiment  \n",
       "0     0.436    0.8910          1  \n",
       "1     0.148   -0.2023         -1  \n",
       "2     0.000   -0.3400         -1  \n",
       "3     0.000   -0.3182         -1  \n",
       "4     0.189    0.4939          1  "
      ]
     },
     "execution_count": 42,
     "metadata": {},
     "output_type": "execute_result"
    }
   ],
   "source": [
    "df.head()"
   ]
  },
  {
   "cell_type": "code",
   "execution_count": 43,
   "metadata": {},
   "outputs": [
    {
     "data": {
      "text/html": [
       "<div>\n",
       "<style scoped>\n",
       "    .dataframe tbody tr th:only-of-type {\n",
       "        vertical-align: middle;\n",
       "    }\n",
       "\n",
       "    .dataframe tbody tr th {\n",
       "        vertical-align: top;\n",
       "    }\n",
       "\n",
       "    .dataframe thead th {\n",
       "        text-align: right;\n",
       "    }\n",
       "</style>\n",
       "<table border=\"1\" class=\"dataframe\">\n",
       "  <thead>\n",
       "    <tr style=\"text-align: right;\">\n",
       "      <th></th>\n",
       "      <th>negative</th>\n",
       "      <th>neutral</th>\n",
       "      <th>positive</th>\n",
       "      <th>compound</th>\n",
       "      <th>sentiment</th>\n",
       "    </tr>\n",
       "  </thead>\n",
       "  <tbody>\n",
       "    <tr>\n",
       "      <th>count</th>\n",
       "      <td>48528.000000</td>\n",
       "      <td>48528.000000</td>\n",
       "      <td>48528.000000</td>\n",
       "      <td>48528.000000</td>\n",
       "      <td>48528.000000</td>\n",
       "    </tr>\n",
       "    <tr>\n",
       "      <th>mean</th>\n",
       "      <td>0.112941</td>\n",
       "      <td>0.769635</td>\n",
       "      <td>0.117422</td>\n",
       "      <td>-0.000377</td>\n",
       "      <td>0.012076</td>\n",
       "    </tr>\n",
       "    <tr>\n",
       "      <th>std</th>\n",
       "      <td>0.124456</td>\n",
       "      <td>0.151265</td>\n",
       "      <td>0.120711</td>\n",
       "      <td>0.535166</td>\n",
       "      <td>0.912575</td>\n",
       "    </tr>\n",
       "    <tr>\n",
       "      <th>min</th>\n",
       "      <td>0.000000</td>\n",
       "      <td>0.164000</td>\n",
       "      <td>0.000000</td>\n",
       "      <td>-0.988100</td>\n",
       "      <td>-1.000000</td>\n",
       "    </tr>\n",
       "    <tr>\n",
       "      <th>25%</th>\n",
       "      <td>0.000000</td>\n",
       "      <td>0.668000</td>\n",
       "      <td>0.000000</td>\n",
       "      <td>-0.458800</td>\n",
       "      <td>-1.000000</td>\n",
       "    </tr>\n",
       "    <tr>\n",
       "      <th>50%</th>\n",
       "      <td>0.088000</td>\n",
       "      <td>0.774000</td>\n",
       "      <td>0.100000</td>\n",
       "      <td>0.000000</td>\n",
       "      <td>0.000000</td>\n",
       "    </tr>\n",
       "    <tr>\n",
       "      <th>75%</th>\n",
       "      <td>0.187000</td>\n",
       "      <td>0.875000</td>\n",
       "      <td>0.189000</td>\n",
       "      <td>0.447275</td>\n",
       "      <td>1.000000</td>\n",
       "    </tr>\n",
       "    <tr>\n",
       "      <th>max</th>\n",
       "      <td>0.792000</td>\n",
       "      <td>1.000000</td>\n",
       "      <td>0.805000</td>\n",
       "      <td>0.989300</td>\n",
       "      <td>1.000000</td>\n",
       "    </tr>\n",
       "  </tbody>\n",
       "</table>\n",
       "</div>"
      ],
      "text/plain": [
       "           negative       neutral      positive      compound     sentiment\n",
       "count  48528.000000  48528.000000  48528.000000  48528.000000  48528.000000\n",
       "mean       0.112941      0.769635      0.117422     -0.000377      0.012076\n",
       "std        0.124456      0.151265      0.120711      0.535166      0.912575\n",
       "min        0.000000      0.164000      0.000000     -0.988100     -1.000000\n",
       "25%        0.000000      0.668000      0.000000     -0.458800     -1.000000\n",
       "50%        0.088000      0.774000      0.100000      0.000000      0.000000\n",
       "75%        0.187000      0.875000      0.189000      0.447275      1.000000\n",
       "max        0.792000      1.000000      0.805000      0.989300      1.000000"
      ]
     },
     "execution_count": 43,
     "metadata": {},
     "output_type": "execute_result"
    }
   ],
   "source": [
    "df.describe()"
   ]
  },
  {
   "cell_type": "code",
   "execution_count": 44,
   "metadata": {},
   "outputs": [
    {
     "data": {
      "text/plain": [
       "str"
      ]
     },
     "execution_count": 44,
     "metadata": {},
     "output_type": "execute_result"
    }
   ],
   "source": [
    "type(df['tweet_text'][1])"
   ]
  },
  {
   "cell_type": "markdown",
   "metadata": {},
   "source": [
    "#### Function to classify Tweets"
   ]
  },
  {
   "cell_type": "code",
   "execution_count": 45,
   "metadata": {},
   "outputs": [],
   "source": [
    "# Create an object of Sonar Hate Speech Detection\n",
    "sonar = Sonar()"
   ]
  },
  {
   "cell_type": "code",
   "execution_count": 46,
   "metadata": {},
   "outputs": [],
   "source": [
    "Class = []\n",
    "hate = []\n",
    "offensive = []\n",
    "neither = []"
   ]
  },
  {
   "cell_type": "code",
   "execution_count": 47,
   "metadata": {},
   "outputs": [],
   "source": [
    "def hate_speech_classifier(df, Class, hate, offensive, neither):\n",
    "    for i in df['tweet_text']:\n",
    "        sonar_dict = sonar.ping(text=i)\n",
    "        Class.append(list(sonar_dict.values())[1])\n",
    "        hate.append(list(list(sonar_dict.values())[2][0].values())[1])\n",
    "        offensive.append(list(list(sonar_dict.values())[2][1].values())[1])\n",
    "        neither.append(list(list(sonar_dict.values())[2][2].values())[1])"
   ]
  },
  {
   "cell_type": "code",
   "execution_count": 48,
   "metadata": {},
   "outputs": [],
   "source": [
    "# Function calling \n",
    "hate_speech_classifier(df, Class, hate, offensive, neither)"
   ]
  },
  {
   "cell_type": "code",
   "execution_count": 49,
   "metadata": {},
   "outputs": [],
   "source": [
    "# Prepare columns to add the scores later\n",
    "df[\"Class\"] = Class\n",
    "df[\"hate\"] = hate\n",
    "df[\"offensive\"] = offensive\n",
    "df[\"neither\"] = neither"
   ]
  },
  {
   "cell_type": "code",
   "execution_count": 50,
   "metadata": {},
   "outputs": [
    {
     "data": {
      "text/plain": [
       "neither               44726\n",
       "offensive_language     3570\n",
       "hate_speech             232\n",
       "Name: Class, dtype: int64"
      ]
     },
     "execution_count": 50,
     "metadata": {},
     "output_type": "execute_result"
    }
   ],
   "source": [
    "df.Class.value_counts()"
   ]
  },
  {
   "cell_type": "code",
   "execution_count": 51,
   "metadata": {},
   "outputs": [
    {
     "data": {
      "text/plain": [
       "0.9389794844818516"
      ]
     },
     "execution_count": 51,
     "metadata": {},
     "output_type": "execute_result"
    }
   ],
   "source": [
    "3570/(df.Class.value_counts()[-1] + df.Class.value_counts()[1])"
   ]
  },
  {
   "cell_type": "markdown",
   "metadata": {},
   "source": [
    "#### Number of Tweets by Hate Speech Classification"
   ]
  },
  {
   "cell_type": "code",
   "execution_count": 52,
   "metadata": {},
   "outputs": [
    {
     "data": {
      "image/png": "[encoded data removed]",
      "text/plain": [
       "<Figure size 800x480 with 1 Axes>"
      ]
     },
     "metadata": {},
     "output_type": "display_data"
    }
   ],
   "source": [
    "# Draw Plot\n",
    "fig, ax = plt.subplots(figsize=(10, 6), subplot_kw=dict(aspect=\"equal\"), dpi= 80)\n",
    "\n",
    "data = [df.Class.value_counts()[-1], df.Class.value_counts()[1], df.Class.value_counts()[0]]\n",
    "categories = ['Hate Speech', 'Offensive', 'Neither']\n",
    "explode = [0.05,0.05,0.05]\n",
    "\n",
    "def func(pct, allvals):\n",
    "    absolute = int(pct/100.*np.sum(allvals))\n",
    "    return \"{:.1f}% ({:d} )\".format(pct, absolute)\n",
    "\n",
    "wedges, texts, autotexts = ax.pie(data, \n",
    "                                  autopct=lambda pct: func(pct, data),\n",
    "                                  textprops=dict(color=\"w\"), \n",
    "                                  colors=['#e55039', '#3c6382', '#78e08f'],\n",
    "                                  startangle=140,\n",
    "                                  explode=explode)\n",
    "\n",
    "# Decoration\n",
    "ax.legend(wedges, categories, title=\"Tweet contains:\", loc=\"center left\", bbox_to_anchor=(1, 0.2, 0.5, 1))\n",
    "plt.setp(autotexts, size=10, weight=700)\n",
    "ax.set_title(\"Hate Speech Detection\", fontsize=12, fontweight=\"bold\")\n",
    "plt.show()"
   ]
  },
  {
   "cell_type": "markdown",
   "metadata": {},
   "source": [
    "#### Histogram"
   ]
  },
  {
   "cell_type": "code",
   "execution_count": 53,
   "metadata": {},
   "outputs": [
    {
     "data": {
      "image/png": "[encoded data removed]",
      "text/plain": [
       "<Figure size 288x360 with 1 Axes>"
      ]
     },
     "metadata": {
      "needs_background": "light"
     },
     "output_type": "display_data"
    }
   ],
   "source": [
    "labels = ['Hateful & Offensive', 'Neither']\n",
    "freq = [df.Class.value_counts()[-1] + df.Class.value_counts()[1], df.Class.value_counts()[0]]\n",
    "index = np.arange(len(freq))\n",
    "\n",
    "plt.figure(figsize=(4,5))\n",
    "plt.bar(index, freq, alpha=0.8, width=0.5, color=['red','#3c6382','black'])\n",
    "plt.xlabel('Contains', fontsize=13)\n",
    "plt.ylabel('Number of Tweets', fontsize=13)\n",
    "plt.xticks(index, labels, fontsize=11) \n",
    "plt.title(\"Distribution of the dataset\", fontsize=12, fontweight=\"bold\")\n",
    "plt.ylim(0, len(df['tweet_text']))\n",
    "plt.show()"
   ]
  },
  {
   "cell_type": "code",
   "execution_count": 54,
   "metadata": {},
   "outputs": [],
   "source": [
    "labels = ['Hate Speech', 'Offensive Language']\n",
    "freq1 = [df.Class.value_counts()[-1], df.Class.value_counts()[1]]\n",
    "index1 = np.arange(len(freq1))"
   ]
  },
  {
   "cell_type": "code",
   "execution_count": 55,
   "metadata": {},
   "outputs": [
    {
     "data": {
      "image/png": "[encoded data removed]",
      "text/plain": [
       "<Figure size 288x360 with 1 Axes>"
      ]
     },
     "metadata": {
      "needs_background": "light"
     },
     "output_type": "display_data"
    }
   ],
   "source": [
    "plt.figure(figsize=(4,5))\n",
    "plt.bar(index1, freq1, alpha=0.8, width=0.5, color=['red','black'])\n",
    "plt.xlabel('Contains', fontsize=13)\n",
    "plt.ylabel('Number of Tweets', fontsize=13)\n",
    "plt.xticks(index, labels, fontsize=11) \n",
    "plt.title(\"Problematic Tweets\", fontsize=12, fontweight=\"bold\")\n",
    "plt.ylim(0, 4000)\n",
    "plt.show()"
   ]
  },
  {
   "cell_type": "markdown",
   "metadata": {},
   "source": [
    "#### Seperate the dataset accordingly to contining hateful speech, offensive language and neither"
   ]
  },
  {
   "cell_type": "code",
   "execution_count": 56,
   "metadata": {},
   "outputs": [],
   "source": [
    "df_hate = df[df['Class']=='hate_speech']\n",
    "df_offensive = df[df['Class']=='offensive_language']\n",
    "df_neither = df[df['Class']=='neither']"
   ]
  },
  {
   "cell_type": "code",
   "execution_count": 104,
   "metadata": {},
   "outputs": [
    {
     "data": {
      "text/plain": [
       " 1    19336\n",
       "-1    17683\n",
       " 0     7707\n",
       "Name: sentiment, dtype: int64"
      ]
     },
     "execution_count": 104,
     "metadata": {},
     "output_type": "execute_result"
    }
   ],
   "source": [
    "df_neither.sentiment.value_counts()"
   ]
  },
  {
   "cell_type": "code",
   "execution_count": 69,
   "metadata": {},
   "outputs": [
    {
     "data": {
      "text/plain": [
       "-1    2089\n",
       " 1    1106\n",
       " 0     375\n",
       "Name: sentiment, dtype: int64"
      ]
     },
     "execution_count": 69,
     "metadata": {},
     "output_type": "execute_result"
    }
   ],
   "source": [
    "df_offensive.sentiment.value_counts()"
   ]
  },
  {
   "cell_type": "code",
   "execution_count": 107,
   "metadata": {},
   "outputs": [
    {
     "data": {
      "text/plain": [
       "0.17231587890712338"
      ]
     },
     "execution_count": 107,
     "metadata": {},
     "output_type": "execute_result"
    }
   ],
   "source": [
    "7707/(19336+17683+7707)"
   ]
  },
  {
   "cell_type": "code",
   "execution_count": 58,
   "metadata": {},
   "outputs": [
    {
     "data": {
      "image/png": "[encoded data removed]",
      "text/plain": [
       "<Figure size 360x432 with 1 Axes>"
      ]
     },
     "metadata": {
      "needs_background": "light"
     },
     "output_type": "display_data"
    }
   ],
   "source": [
    "labels = ['Negative', 'Positive', 'Neutral']\n",
    "freq = [df_hate.sentiment.value_counts()[-1], df_hate.sentiment.value_counts()[1], df_hate.sentiment.value_counts()[0]]\n",
    "index = np.arange(len(freq))\n",
    "\n",
    "plt.figure(figsize=(5,6))\n",
    "\n",
    "# Chart 1: Sentiment of Tweets classified as Hateful\n",
    "plt.barh(index, freq, alpha=0.8, color=['#e74c3c','#3c6382','black'])\n",
    "plt.xlabel('Number of tweets', fontsize=13)\n",
    "plt.ylabel('Sentiment', fontsize=13)\n",
    "plt.yticks(index, labels, fontsize=11) \n",
    "plt.title(\"Hate Speech by Sentiment\", fontsize=12, fontweight=\"bold\")\n",
    "plt.show()"
   ]
  },
  {
   "cell_type": "code",
   "execution_count": 59,
   "metadata": {},
   "outputs": [
    {
     "data": {
      "image/png": "[encoded data removed]",
      "text/plain": [
       "<Figure size 360x432 with 1 Axes>"
      ]
     },
     "metadata": {
      "needs_background": "light"
     },
     "output_type": "display_data"
    }
   ],
   "source": [
    "labels = ['Negative', 'Positive', 'Neutral']\n",
    "freq = [df_offensive.sentiment.value_counts()[-1], df_offensive.sentiment.value_counts()[1], df_offensive.sentiment.value_counts()[0]]\n",
    "index = np.arange(len(freq))\n",
    "\n",
    "plt.figure(figsize=(5,6))\n",
    "\n",
    "# Chart 2: Sentiment of Tweets classified as Offensive\n",
    "plt.barh(index, freq, alpha=0.8, color=['#e74c3c','#3c6382','black'])\n",
    "plt.xlabel('Number of tweets', fontsize=13)\n",
    "plt.ylabel('Sentiment', fontsize=13)\n",
    "plt.yticks(index, labels, fontsize=11) \n",
    "plt.title(\"Offensive Language by Sentiment\", fontsize=12, fontweight=\"bold\")\n",
    "plt.show()"
   ]
  },
  {
   "cell_type": "code",
   "execution_count": 60,
   "metadata": {},
   "outputs": [
    {
     "data": {
      "image/png": "[encoded data removed]",
      "text/plain": [
       "<Figure size 360x432 with 1 Axes>"
      ]
     },
     "metadata": {
      "needs_background": "light"
     },
     "output_type": "display_data"
    }
   ],
   "source": [
    "labels = ['Negative', 'Positive', 'Neutral']\n",
    "freq = [df_neither.sentiment.value_counts()[-1], df_neither.sentiment.value_counts()[1], df_neither.sentiment.value_counts()[0]]\n",
    "index = np.arange(len(freq))\n",
    "\n",
    "plt.figure(figsize=(5,6))\n",
    "\n",
    "# Chart 3: Sentiment of Tweets classified as Neither\n",
    "plt.barh(index, freq, alpha=0.8, color=['#e74c3c','#3c6382','black'])\n",
    "plt.xlabel('Number of tweets', fontsize=13)\n",
    "plt.ylabel('Sentiment', fontsize=13)\n",
    "plt.yticks(index, labels, fontsize=11) \n",
    "plt.title(\"Normal Tweets by Sentiment\", fontsize=12, fontweight=\"bold\")\n",
    "plt.show()"
   ]
  },
  {
   "cell_type": "markdown",
   "metadata": {},
   "source": [
    "#### Scatter Plot of Hate Score"
   ]
  },
  {
   "cell_type": "code",
   "execution_count": 61,
   "metadata": {},
   "outputs": [
    {
     "data": {
      "text/plain": [
       "<Figure size 1440x360 with 0 Axes>"
      ]
     },
     "metadata": {},
     "output_type": "display_data"
    },
    {
     "data": {
      "image/png": "[encoded data removed]",
      "text/plain": [
       "<Figure size 360x360 with 1 Axes>"
      ]
     },
     "metadata": {
      "needs_background": "light"
     },
     "output_type": "display_data"
    }
   ],
   "source": [
    "# Provide a dictionary to the palette argument\n",
    "plt.figure(figsize=(20,5))\n",
    "sns.lmplot( x=\"compound\", y=\"hate\", data=df_hate, fit_reg=False, hue='Class', legend=False, palette=dict(neither=\"black\", offensive_language=\"#3c6382\", hate_speech=\"#e74c3c\"))\n",
    " \n",
    "# Move the legend to an empty part of the plot\n",
    "plt.legend(loc='lower right')\n",
    "plt.show()"
   ]
  },
  {
   "cell_type": "markdown",
   "metadata": {},
   "source": [
    "#### Top 10 Hateful Tweets"
   ]
  },
  {
   "cell_type": "code",
   "execution_count": 114,
   "metadata": {},
   "outputs": [],
   "source": [
    "df_hate.sort_values('hate', inplace=True, ascending=False)"
   ]
  },
  {
   "cell_type": "code",
   "execution_count": 115,
   "metadata": {},
   "outputs": [],
   "source": [
    "df_hate.reset_index(drop=True, inplace=True)"
   ]
  },
  {
   "cell_type": "code",
   "execution_count": 116,
   "metadata": {},
   "outputs": [
    {
     "data": {
      "text/html": [
       "<div>\n",
       "<style scoped>\n",
       "    .dataframe tbody tr th:only-of-type {\n",
       "        vertical-align: middle;\n",
       "    }\n",
       "\n",
       "    .dataframe tbody tr th {\n",
       "        vertical-align: top;\n",
       "    }\n",
       "\n",
       "    .dataframe thead th {\n",
       "        text-align: right;\n",
       "    }\n",
       "</style>\n",
       "<table border=\"1\" class=\"dataframe\">\n",
       "  <thead>\n",
       "    <tr style=\"text-align: right;\">\n",
       "      <th></th>\n",
       "      <th>tweet_text</th>\n",
       "      <th>negative</th>\n",
       "      <th>neutral</th>\n",
       "      <th>positive</th>\n",
       "      <th>compound</th>\n",
       "      <th>sentiment</th>\n",
       "      <th>Class</th>\n",
       "      <th>hate</th>\n",
       "      <th>offensive</th>\n",
       "      <th>neither</th>\n",
       "    </tr>\n",
       "  </thead>\n",
       "  <tbody>\n",
       "    <tr>\n",
       "      <th>0</th>\n",
       "      <td>@ WritersofColour \"your religion is misogynist...</td>\n",
       "      <td>0.273</td>\n",
       "      <td>0.727</td>\n",
       "      <td>0.000</td>\n",
       "      <td>-0.4588</td>\n",
       "      <td>-1</td>\n",
       "      <td>hate_speech</td>\n",
       "      <td>0.870408</td>\n",
       "      <td>0.069669</td>\n",
       "      <td>0.059924</td>\n",
       "    </tr>\n",
       "    <tr>\n",
       "      <th>1</th>\n",
       "      <td>@ BlushingGiraffe White is a race, anyone can ...</td>\n",
       "      <td>0.156</td>\n",
       "      <td>0.596</td>\n",
       "      <td>0.248</td>\n",
       "      <td>0.2509</td>\n",
       "      <td>1</td>\n",
       "      <td>hate_speech</td>\n",
       "      <td>0.767149</td>\n",
       "      <td>0.061211</td>\n",
       "      <td>0.171641</td>\n",
       "    </tr>\n",
       "    <tr>\n",
       "      <th>2</th>\n",
       "      <td>I don't know where White Racist Americans get ...</td>\n",
       "      <td>0.174</td>\n",
       "      <td>0.826</td>\n",
       "      <td>0.000</td>\n",
       "      <td>-0.6124</td>\n",
       "      <td>-1</td>\n",
       "      <td>hate_speech</td>\n",
       "      <td>0.724897</td>\n",
       "      <td>0.212712</td>\n",
       "      <td>0.062391</td>\n",
       "    </tr>\n",
       "    <tr>\n",
       "      <th>3</th>\n",
       "      <td>Your baby is ugly, your life is ugly, your sha...</td>\n",
       "      <td>0.414</td>\n",
       "      <td>0.586</td>\n",
       "      <td>0.000</td>\n",
       "      <td>-0.9565</td>\n",
       "      <td>-1</td>\n",
       "      <td>hate_speech</td>\n",
       "      <td>0.721625</td>\n",
       "      <td>0.181148</td>\n",
       "      <td>0.097227</td>\n",
       "    </tr>\n",
       "    <tr>\n",
       "      <th>4</th>\n",
       "      <td>Hate is the new religion of some white folks. ...</td>\n",
       "      <td>0.456</td>\n",
       "      <td>0.463</td>\n",
       "      <td>0.081</td>\n",
       "      <td>-0.8934</td>\n",
       "      <td>-1</td>\n",
       "      <td>hate_speech</td>\n",
       "      <td>0.709896</td>\n",
       "      <td>0.160303</td>\n",
       "      <td>0.129802</td>\n",
       "    </tr>\n",
       "    <tr>\n",
       "      <th>5</th>\n",
       "      <td>Niggas whip is going to be shittin on your nig...</td>\n",
       "      <td>0.418</td>\n",
       "      <td>0.455</td>\n",
       "      <td>0.127</td>\n",
       "      <td>-0.7506</td>\n",
       "      <td>-1</td>\n",
       "      <td>hate_speech</td>\n",
       "      <td>0.706653</td>\n",
       "      <td>0.292359</td>\n",
       "      <td>0.000988</td>\n",
       "    </tr>\n",
       "    <tr>\n",
       "      <th>6</th>\n",
       "      <td>How awake are you? Level 4: White Nationalism ...</td>\n",
       "      <td>0.207</td>\n",
       "      <td>0.657</td>\n",
       "      <td>0.136</td>\n",
       "      <td>-0.3612</td>\n",
       "      <td>-1</td>\n",
       "      <td>hate_speech</td>\n",
       "      <td>0.701517</td>\n",
       "      <td>0.261230</td>\n",
       "      <td>0.037254</td>\n",
       "    </tr>\n",
       "    <tr>\n",
       "      <th>7</th>\n",
       "      <td>The majority of American Jews are of white Eur...</td>\n",
       "      <td>0.000</td>\n",
       "      <td>0.855</td>\n",
       "      <td>0.145</td>\n",
       "      <td>0.3724</td>\n",
       "      <td>1</td>\n",
       "      <td>hate_speech</td>\n",
       "      <td>0.699957</td>\n",
       "      <td>0.104922</td>\n",
       "      <td>0.195121</td>\n",
       "    </tr>\n",
       "    <tr>\n",
       "      <th>8</th>\n",
       "      <td>@ ShaunKing: \"A blanket ban based on race or r...</td>\n",
       "      <td>0.491</td>\n",
       "      <td>0.509</td>\n",
       "      <td>0.000</td>\n",
       "      <td>-0.9262</td>\n",
       "      <td>-1</td>\n",
       "      <td>hate_speech</td>\n",
       "      <td>0.699675</td>\n",
       "      <td>0.095535</td>\n",
       "      <td>0.204790</td>\n",
       "    </tr>\n",
       "    <tr>\n",
       "      <th>9</th>\n",
       "      <td>Welcome to the white boys club Where your reli...</td>\n",
       "      <td>0.098</td>\n",
       "      <td>0.693</td>\n",
       "      <td>0.209</td>\n",
       "      <td>0.6808</td>\n",
       "      <td>1</td>\n",
       "      <td>hate_speech</td>\n",
       "      <td>0.676426</td>\n",
       "      <td>0.258803</td>\n",
       "      <td>0.064771</td>\n",
       "    </tr>\n",
       "  </tbody>\n",
       "</table>\n",
       "</div>"
      ],
      "text/plain": [
       "                                          tweet_text  negative  neutral  \\\n",
       "0  @ WritersofColour \"your religion is misogynist...     0.273    0.727   \n",
       "1  @ BlushingGiraffe White is a race, anyone can ...     0.156    0.596   \n",
       "2  I don't know where White Racist Americans get ...     0.174    0.826   \n",
       "3  Your baby is ugly, your life is ugly, your sha...     0.414    0.586   \n",
       "4  Hate is the new religion of some white folks. ...     0.456    0.463   \n",
       "5  Niggas whip is going to be shittin on your nig...     0.418    0.455   \n",
       "6  How awake are you? Level 4: White Nationalism ...     0.207    0.657   \n",
       "7  The majority of American Jews are of white Eur...     0.000    0.855   \n",
       "8  @ ShaunKing: \"A blanket ban based on race or r...     0.491    0.509   \n",
       "9  Welcome to the white boys club Where your reli...     0.098    0.693   \n",
       "\n",
       "   positive  compound  sentiment        Class      hate  offensive   neither  \n",
       "0     0.000   -0.4588         -1  hate_speech  0.870408   0.069669  0.059924  \n",
       "1     0.248    0.2509          1  hate_speech  0.767149   0.061211  0.171641  \n",
       "2     0.000   -0.6124         -1  hate_speech  0.724897   0.212712  0.062391  \n",
       "3     0.000   -0.9565         -1  hate_speech  0.721625   0.181148  0.097227  \n",
       "4     0.081   -0.8934         -1  hate_speech  0.709896   0.160303  0.129802  \n",
       "5     0.127   -0.7506         -1  hate_speech  0.706653   0.292359  0.000988  \n",
       "6     0.136   -0.3612         -1  hate_speech  0.701517   0.261230  0.037254  \n",
       "7     0.145    0.3724          1  hate_speech  0.699957   0.104922  0.195121  \n",
       "8     0.000   -0.9262         -1  hate_speech  0.699675   0.095535  0.204790  \n",
       "9     0.209    0.6808          1  hate_speech  0.676426   0.258803  0.064771  "
      ]
     },
     "execution_count": 116,
     "metadata": {},
     "output_type": "execute_result"
    }
   ],
   "source": [
    "df_hate.head(10)"
   ]
  },
  {
   "cell_type": "markdown",
   "metadata": {},
   "source": [
    "#### Top 10 Offensive Tweets"
   ]
  },
  {
   "cell_type": "code",
   "execution_count": 122,
   "metadata": {},
   "outputs": [],
   "source": [
    "df_offensive.sort_values('offensive',inplace=True, ascending=False)"
   ]
  },
  {
   "cell_type": "code",
   "execution_count": 123,
   "metadata": {},
   "outputs": [],
   "source": [
    "df_offensive.reset_index(drop=True, inplace=True)"
   ]
  },
  {
   "cell_type": "code",
   "execution_count": 124,
   "metadata": {},
   "outputs": [
    {
     "data": {
      "text/html": [
       "<div>\n",
       "<style scoped>\n",
       "    .dataframe tbody tr th:only-of-type {\n",
       "        vertical-align: middle;\n",
       "    }\n",
       "\n",
       "    .dataframe tbody tr th {\n",
       "        vertical-align: top;\n",
       "    }\n",
       "\n",
       "    .dataframe thead th {\n",
       "        text-align: right;\n",
       "    }\n",
       "</style>\n",
       "<table border=\"1\" class=\"dataframe\">\n",
       "  <thead>\n",
       "    <tr style=\"text-align: right;\">\n",
       "      <th></th>\n",
       "      <th>tweet_text</th>\n",
       "      <th>negative</th>\n",
       "      <th>neutral</th>\n",
       "      <th>positive</th>\n",
       "      <th>compound</th>\n",
       "      <th>sentiment</th>\n",
       "      <th>Class</th>\n",
       "      <th>hate</th>\n",
       "      <th>offensive</th>\n",
       "      <th>neither</th>\n",
       "    </tr>\n",
       "  </thead>\n",
       "  <tbody>\n",
       "    <tr>\n",
       "      <th>0</th>\n",
       "      <td>dustin speaking \"son of a bitch\" is my religion</td>\n",
       "      <td>0.388</td>\n",
       "      <td>0.612</td>\n",
       "      <td>0.000</td>\n",
       "      <td>-0.5859</td>\n",
       "      <td>-1</td>\n",
       "      <td>offensive_language</td>\n",
       "      <td>0.010516</td>\n",
       "      <td>0.989317</td>\n",
       "      <td>0.000167</td>\n",
       "    </tr>\n",
       "    <tr>\n",
       "      <th>1</th>\n",
       "      <td>Anja Nissen saying \"vegan bitches!\" in her las...</td>\n",
       "      <td>0.000</td>\n",
       "      <td>1.000</td>\n",
       "      <td>0.000</td>\n",
       "      <td>0.0000</td>\n",
       "      <td>0</td>\n",
       "      <td>offensive_language</td>\n",
       "      <td>0.009915</td>\n",
       "      <td>0.989315</td>\n",
       "      <td>0.000770</td>\n",
       "    </tr>\n",
       "    <tr>\n",
       "      <th>2</th>\n",
       "      <td>No more drugs for me, pussy n religion is all ...</td>\n",
       "      <td>0.216</td>\n",
       "      <td>0.784</td>\n",
       "      <td>0.000</td>\n",
       "      <td>-0.2960</td>\n",
       "      <td>-1</td>\n",
       "      <td>offensive_language</td>\n",
       "      <td>0.011703</td>\n",
       "      <td>0.987489</td>\n",
       "      <td>0.000808</td>\n",
       "    </tr>\n",
       "    <tr>\n",
       "      <th>3</th>\n",
       "      <td>whatever (if any) religion is right i’m fighti...</td>\n",
       "      <td>0.223</td>\n",
       "      <td>0.777</td>\n",
       "      <td>0.000</td>\n",
       "      <td>-0.7430</td>\n",
       "      <td>-1</td>\n",
       "      <td>offensive_language</td>\n",
       "      <td>0.016037</td>\n",
       "      <td>0.983680</td>\n",
       "      <td>0.000284</td>\n",
       "    </tr>\n",
       "    <tr>\n",
       "      <th>4</th>\n",
       "      <td># hebrew Religions sex teen pussy porn of is i...</td>\n",
       "      <td>0.000</td>\n",
       "      <td>1.000</td>\n",
       "      <td>0.000</td>\n",
       "      <td>0.0000</td>\n",
       "      <td>0</td>\n",
       "      <td>offensive_language</td>\n",
       "      <td>0.016098</td>\n",
       "      <td>0.982518</td>\n",
       "      <td>0.001385</td>\n",
       "    </tr>\n",
       "    <tr>\n",
       "      <th>5</th>\n",
       "      <td>Iont know how chicks think pussy is the most p...</td>\n",
       "      <td>0.000</td>\n",
       "      <td>0.838</td>\n",
       "      <td>0.162</td>\n",
       "      <td>0.4754</td>\n",
       "      <td>1</td>\n",
       "      <td>offensive_language</td>\n",
       "      <td>0.020820</td>\n",
       "      <td>0.979173</td>\n",
       "      <td>0.000006</td>\n",
       "    </tr>\n",
       "    <tr>\n",
       "      <th>6</th>\n",
       "      <td>i need a religion to follow i swear to god tha...</td>\n",
       "      <td>0.365</td>\n",
       "      <td>0.541</td>\n",
       "      <td>0.095</td>\n",
       "      <td>-0.7178</td>\n",
       "      <td>-1</td>\n",
       "      <td>offensive_language</td>\n",
       "      <td>0.019817</td>\n",
       "      <td>0.977996</td>\n",
       "      <td>0.002187</td>\n",
       "    </tr>\n",
       "    <tr>\n",
       "      <th>7</th>\n",
       "      <td>Hippy bitches sending me titty pictures, she t...</td>\n",
       "      <td>0.357</td>\n",
       "      <td>0.643</td>\n",
       "      <td>0.000</td>\n",
       "      <td>-0.7269</td>\n",
       "      <td>-1</td>\n",
       "      <td>offensive_language</td>\n",
       "      <td>0.018234</td>\n",
       "      <td>0.973176</td>\n",
       "      <td>0.008590</td>\n",
       "    </tr>\n",
       "    <tr>\n",
       "      <th>8</th>\n",
       "      <td>@ LdeRothschild There is no Religion that Has ...</td>\n",
       "      <td>0.459</td>\n",
       "      <td>0.541</td>\n",
       "      <td>0.000</td>\n",
       "      <td>-0.8979</td>\n",
       "      <td>-1</td>\n",
       "      <td>offensive_language</td>\n",
       "      <td>0.027006</td>\n",
       "      <td>0.972236</td>\n",
       "      <td>0.000759</td>\n",
       "    </tr>\n",
       "    <tr>\n",
       "      <th>9</th>\n",
       "      <td>like idk if that's islamophobia jumping out or...</td>\n",
       "      <td>0.305</td>\n",
       "      <td>0.550</td>\n",
       "      <td>0.144</td>\n",
       "      <td>-0.8367</td>\n",
       "      <td>-1</td>\n",
       "      <td>offensive_language</td>\n",
       "      <td>0.028679</td>\n",
       "      <td>0.969676</td>\n",
       "      <td>0.001645</td>\n",
       "    </tr>\n",
       "  </tbody>\n",
       "</table>\n",
       "</div>"
      ],
      "text/plain": [
       "                                          tweet_text  negative  neutral  \\\n",
       "0    dustin speaking \"son of a bitch\" is my religion     0.388    0.612   \n",
       "1  Anja Nissen saying \"vegan bitches!\" in her las...     0.000    1.000   \n",
       "2  No more drugs for me, pussy n religion is all ...     0.216    0.784   \n",
       "3  whatever (if any) religion is right i’m fighti...     0.223    0.777   \n",
       "4  # hebrew Religions sex teen pussy porn of is i...     0.000    1.000   \n",
       "5  Iont know how chicks think pussy is the most p...     0.000    0.838   \n",
       "6  i need a religion to follow i swear to god tha...     0.365    0.541   \n",
       "7  Hippy bitches sending me titty pictures, she t...     0.357    0.643   \n",
       "8  @ LdeRothschild There is no Religion that Has ...     0.459    0.541   \n",
       "9  like idk if that's islamophobia jumping out or...     0.305    0.550   \n",
       "\n",
       "   positive  compound  sentiment               Class      hate  offensive  \\\n",
       "0     0.000   -0.5859         -1  offensive_language  0.010516   0.989317   \n",
       "1     0.000    0.0000          0  offensive_language  0.009915   0.989315   \n",
       "2     0.000   -0.2960         -1  offensive_language  0.011703   0.987489   \n",
       "3     0.000   -0.7430         -1  offensive_language  0.016037   0.983680   \n",
       "4     0.000    0.0000          0  offensive_language  0.016098   0.982518   \n",
       "5     0.162    0.4754          1  offensive_language  0.020820   0.979173   \n",
       "6     0.095   -0.7178         -1  offensive_language  0.019817   0.977996   \n",
       "7     0.000   -0.7269         -1  offensive_language  0.018234   0.973176   \n",
       "8     0.000   -0.8979         -1  offensive_language  0.027006   0.972236   \n",
       "9     0.144   -0.8367         -1  offensive_language  0.028679   0.969676   \n",
       "\n",
       "    neither  \n",
       "0  0.000167  \n",
       "1  0.000770  \n",
       "2  0.000808  \n",
       "3  0.000284  \n",
       "4  0.001385  \n",
       "5  0.000006  \n",
       "6  0.002187  \n",
       "7  0.008590  \n",
       "8  0.000759  \n",
       "9  0.001645  "
      ]
     },
     "execution_count": 124,
     "metadata": {},
     "output_type": "execute_result"
    }
   ],
   "source": [
    "df_offensive.head(10)"
   ]
  },
  {
   "cell_type": "markdown",
   "metadata": {},
   "source": [
    "#### Trying on Specific Tweets"
   ]
  },
  {
   "cell_type": "code",
   "execution_count": 125,
   "metadata": {},
   "outputs": [
    {
     "data": {
      "text/plain": [
       "['Listening to Love Is My Religion by Ziggy Marley # nowplaying @ JamalDajani @ Kpooradio @ Kpootweets http://grooveshark.com/s/Love+Is+My+Religion/1liWTY?src=5 … via @ grooveshark',\n",
       " 'neither',\n",
       " [{'class_name': 'hate_speech', 'confidence': 0.0371948899813705},\n",
       "  {'class_name': 'offensive_language', 'confidence': 0.26891960234698886},\n",
       "  {'class_name': 'neither', 'confidence': 0.6938855076716407}]]"
      ]
     },
     "execution_count": 125,
     "metadata": {},
     "output_type": "execute_result"
    }
   ],
   "source": [
    "list(sonar.ping(text=df.tweet_text.iloc[189]).values())\n"
   ]
  },
  {
   "cell_type": "code",
   "execution_count": 126,
   "metadata": {},
   "outputs": [
    {
     "data": {
      "text/plain": [
       "{'text': \"At least I'm not a nigger\",\n",
       " 'top_class': 'hate_speech',\n",
       " 'classes': [{'class_name': 'hate_speech', 'confidence': 0.6043278155427668},\n",
       "  {'class_name': 'offensive_language', 'confidence': 0.395427373894216},\n",
       "  {'class_name': 'neither', 'confidence': 0.0002448105630171915}]}"
      ]
     },
     "execution_count": 126,
     "metadata": {},
     "output_type": "execute_result"
    }
   ],
   "source": [
    "sonar.ping(text=\"At least I'm not a nigger\")"
   ]
  },
  {
   "cell_type": "markdown",
   "metadata": {},
   "source": [
    "#### Saving Results"
   ]
  },
  {
   "cell_type": "code",
   "execution_count": 27,
   "metadata": {},
   "outputs": [],
   "source": [
    "df.drop(['negative', 'neutral', 'positive', 'compound', 'sentiment'], axis=1, inplace=True)\n",
    "df.to_pickle('hate_speech_results.pkl')"
   ]
  },
  {
   "cell_type": "markdown",
   "metadata": {},
   "source": [
    "# END"
   ]
  }
 ],
 "metadata": {
  "kernelspec": {
   "display_name": "Python 3",
   "language": "python",
   "name": "python3"
  },
  "language_info": {
   "codemirror_mode": {
    "name": "ipython",
    "version": 3
   },
   "file_extension": ".py",
   "mimetype": "text/x-python",
   "name": "python",
   "nbconvert_exporter": "python",
   "pygments_lexer": "ipython3",
   "version": "3.7.3"
  }
 },
 "nbformat": 4,
 "nbformat_minor": 2
}
